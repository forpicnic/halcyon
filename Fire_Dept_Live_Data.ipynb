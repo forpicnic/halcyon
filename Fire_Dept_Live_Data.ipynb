{
 "cells": [
  {
   "cell_type": "code",
   "execution_count": 1,
   "metadata": {},
   "outputs": [
    {
     "data": {
      "text/html": [
       "<div>\n",
       "<style>\n",
       "    .dataframe thead tr:only-child th {\n",
       "        text-align: right;\n",
       "    }\n",
       "\n",
       "    .dataframe thead th {\n",
       "        text-align: left;\n",
       "    }\n",
       "\n",
       "    .dataframe tbody tr th {\n",
       "        vertical-align: top;\n",
       "    }\n",
       "</style>\n",
       "<table border=\"1\" class=\"dataframe\">\n",
       "  <thead>\n",
       "    <tr style=\"text-align: right;\">\n",
       "      <th></th>\n",
       "      <th>Address</th>\n",
       "      <th>Department</th>\n",
       "      <th>Description</th>\n",
       "      <th>Latitude</th>\n",
       "      <th>Longitude</th>\n",
       "      <th>Time</th>\n",
       "    </tr>\n",
       "  </thead>\n",
       "  <tbody>\n",
       "    <tr>\n",
       "      <th>0</th>\n",
       "      <td>16312 Littig Rd</td>\n",
       "      <td>ESD12</td>\n",
       "      <td>TRASH - Trash Fire</td>\n",
       "      <td>30.324465</td>\n",
       "      <td>-97.476690</td>\n",
       "      <td>Sat, 09 Dec 2017 01:38 PM</td>\n",
       "    </tr>\n",
       "    <tr>\n",
       "      <th>1</th>\n",
       "      <td>10800 W US 290 HWY</td>\n",
       "      <td>ESD03</td>\n",
       "      <td>Traffic Injury Pri 4F</td>\n",
       "      <td>30.222347</td>\n",
       "      <td>-97.955336</td>\n",
       "      <td>Sat, 09 Dec 2017 02:24 PM</td>\n",
       "    </tr>\n",
       "  </tbody>\n",
       "</table>\n",
       "</div>"
      ],
      "text/plain": [
       "                Address Department              Description     Latitude  \\\n",
       "0      16312 Littig Rd      ESD12       TRASH - Trash Fire    30.324465    \n",
       "1   10800 W US 290 HWY      ESD03    Traffic Injury Pri 4F    30.222347    \n",
       "\n",
       "      Longitude                        Time  \n",
       "0   -97.476690    Sat, 09 Dec 2017 01:38 PM  \n",
       "1   -97.955336    Sat, 09 Dec 2017 02:24 PM  "
      ]
     },
     "execution_count": 1,
     "metadata": {},
     "output_type": "execute_result"
    }
   ],
   "source": [
    "import feedparser\n",
    "import pandas as pd\n",
    "url = \"http://www.ci.austin.tx.us/fact/fact_rss.cfm\"\n",
    "feeds = feedparser.parse(url )\n",
    "feeds['entries']\n",
    "incident = {}\n",
    "department=[]\n",
    "Address=[]\n",
    "Latitude=[]\n",
    "Longitude=[]\n",
    "Description=[]\n",
    "Time=[]\n",
    "for i in range(len(feeds['entries'])):\n",
    "    fir_list = feeds['entries'][i]['summary'].split('|')\n",
    "    department.append(fir_list[0])\n",
    "    Address.append(fir_list[1])\n",
    "    Latitude.append(fir_list[2])\n",
    "    Longitude.append(fir_list[3])\n",
    "    Description.append(fir_list[4])\n",
    "    Time.append(fir_list[5])\n",
    "incident['Department']=department\n",
    "incident['Address']=Address\n",
    "incident['Latitude']=Latitude\n",
    "incident['Longitude']=Longitude\n",
    "incident['Description']=Description\n",
    "incident['Time']=Time\n",
    "df_incident = pd.DataFrame(incident)\n",
    "df_incident  "
   ]
  },
  {
   "cell_type": "code",
   "execution_count": null,
   "metadata": {
    "collapsed": true
   },
   "outputs": [],
   "source": []
  }
 ],
 "metadata": {
  "kernelspec": {
   "display_name": "Python 2",
   "language": "python",
   "name": "python2"
  },
  "language_info": {
   "codemirror_mode": {
    "name": "ipython",
    "version": 2
   },
   "file_extension": ".py",
   "mimetype": "text/x-python",
   "name": "python",
   "nbconvert_exporter": "python",
   "pygments_lexer": "ipython2",
   "version": "2.7.13"
  }
 },
 "nbformat": 4,
 "nbformat_minor": 2
}
